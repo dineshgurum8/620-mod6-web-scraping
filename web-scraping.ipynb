{
 "cells": [
  {
   "cell_type": "markdown",
   "metadata": {},
   "source": [
    "# Web Mining and Applied NLP (44-620)\n",
    "\n",
    "## Web Scraping and NLP with Requests, BeautifulSoup, and spaCy\n",
    "\n",
    "### Student Name: Dinesh Gurumoorthy\n",
    "### Github link:https://github.com/dineshgurum8/620-mod6-web-scraping/tree/master\n",
    "\n",
    "Perform the tasks described in the Markdown cells below.  When you have completed the assignment make sure your code cells have all been run (and have output beneath them) and ensure you have committed and pushed ALL of your changes to your assignment repository.\n",
    "\n",
    "Every question that requires you to write code will have a code cell underneath it; you may either write your entire solution in that cell or write it in a python file (`.py`), then import and run the appropriate code to answer the question."
   ]
  },
  {
   "cell_type": "markdown",
   "metadata": {},
   "source": [
    "### Question 1"
   ]
  },
  {
   "cell_type": "markdown",
   "metadata": {},
   "source": [
    "1. Write code that extracts the article html from https://web.archive.org/web/20210327165005/https://hackaday.com/2021/03/22/how-laser-headlights-work/ and dumps it to a .pkl (or other appropriate file)"
   ]
  },
  {
   "cell_type": "code",
   "execution_count": 1,
   "metadata": {},
   "outputs": [
    {
     "name": "stdout",
     "output_type": "stream",
     "text": [
      " Article content saved to 'laser_headlights_article.pkl'\n"
     ]
    }
   ],
   "source": [
    "import requests\n",
    "from bs4 import BeautifulSoup\n",
    "import pickle\n",
    "\n",
    "# URL of the archived Hackaday article\n",
    "url = \"https://web.archive.org/web/20210327165005/https://hackaday.com/2021/03/22/how-laser-headlights-work/\"\n",
    "\n",
    "# Fetch the page\n",
    "response = requests.get(url)\n",
    "response.raise_for_status()  # Raise error if request failed\n",
    "\n",
    "# Parse HTML content\n",
    "soup = BeautifulSoup(response.text, 'html.parser')\n",
    "\n",
    "# Extract the article content\n",
    "article = soup.find('div', class_='entry-content')\n",
    "\n",
    "if article:\n",
    "    # Save the HTML of the article to a pickle file\n",
    "    with open('laser_headlights_article.pkl', 'wb') as f:\n",
    "        pickle.dump(str(article), f)\n",
    "    print(\" Article content saved to 'laser_headlights_article.pkl'\")\n",
    "else:\n",
    "    print(\"Article content not found.\")"
   ]
  },
  {
   "cell_type": "markdown",
   "metadata": {},
   "source": [
    "## Question 2"
   ]
  },
  {
   "cell_type": "markdown",
   "metadata": {},
   "source": [
    "2. Read in your article's html source from the file you created in question 1 and print it's text (use `.get_text()`)"
   ]
  },
  {
   "cell_type": "code",
   "execution_count": 4,
   "metadata": {},
   "outputs": [
    {
     "name": "stdout",
     "output_type": "stream",
     "text": [
      "When we think about the onward march of automotive technology, headlights aren’t usually the first thing that come to mind. Engines, fuel efficiency, and the switch to electric power are all more front of mind. However, that doesn’t mean there aren’t thousands of engineers around the world working to improve the state of the art in automotive lighting day in, day out.\n",
      "Sealed beam headlights gave way to more modern designs once regulations loosened up, while bulbs moved from simple halogens to xenon HIDs and, more recently, LEDs. Now, a new technology is on the scene, with lasers!\n",
      "Laser Headlights?!\n",
      "BWM’s prototype laser headlight assemblies undergoing testing.\n",
      "The first image brought to mind by the phrase “laser headlights” is that of laser beams firing out the front of an automobile. Obviously, coherent beams of monochromatic light would make for poor illumination outside of a very specific spot quite some distance away. Thankfully for our eyes, laser headlights don’t work in this way at all.\n",
      "Instead, laser headlights consist of one or more solid state laser diodes mounted inside the headlight. These blue lasers are fired at a yellow phosphor, similar to that used in white LEDs. This produces a powerful, vibrant white light that can then be bounced off reflectors and out of the headlights towards the road. Laser headlights built in this way have several benefits. They’re more energy efficient than LEDs that put out the same amount of light, while also being more space efficient, too.\n",
      "BWM’s futuristic i8 was one of the first vehicles to ship with laser headlight technology.\n",
      "Laser headlights are still a nascent technology, thus far only appearing in a few BMW, Audi, and other select vehicles.\n",
      "BMW’s technology was developed in partnership with lighting experts OSRAM\n",
      ". In practice, a regular LED low-beam lamp is used, with the laser used to create an incredibly bright and focused spot, used for high-beams. This can provide illumination out to 600 meters ahead of the vehicle, double that of conventional LED high beams. The lights use indium gallium nitride diode lasers that were originally used in projectors, with power levels above 1 watt. One of the challenges in implementing such technology in an automotive environment is the need for it to operate at temperature extremes. While research lasers and laser pointers may primarily be used at typical room temperatures, automotive headlights must be able to withstand everything from 40 degrees below zero up to 50 degrees C. Thankfully, the laser’s high efficiency means it doesn’t have huge heat output of its own to further complicate things. Other engineering challenges involve tailoring the optics package for the rough-and-tumble, high vibration environment found in the automotive application. It’s also important to ensure, as with any such device, that the end user can’t be exposed to harmful laser radiation in the event of accident or malfunction.\n",
      "Tearing Down the Laser Headlight\n",
      "A marketing image showing the construction of an aftermarket LED/laser headlight. We’d take the laser power with a grain of salt — it’s difficult to imagine a 10 W laser shining directly on some small LEDs without melting a hole through the board in short order.\n",
      "An aftermarket has sprung up too, with delightfully innovative designs. Combined laser/LED headlights are readily available on Alibaba,\n",
      "designed as a drop in replacement for projector lamps on existing vehicles.\n",
      "These often use an LED low-beam, and a combined LED/laser high beam, where the laser diode shoots directly at the LED phosphor to excite it further, rather than using its own. These units often also come with fan cooling to keep the laser and LEDs below their maximum operational temperature. Such developments are exciting, though it’s important to be wary of the performance of unknown aftermarket headlights.\n",
      "Many aftermarket LED headlight “upgrades” fail to pass muster\n",
      "when it comes to real-world performance, and there’s no reason to believe hybrid LED/laser designs will be any different. We’d love to pass a selection of these parts through\n",
      "a full IIHS test protocol\n",
      ", but that’s sadly beyond the scope (and budget!) of this article.\n",
      "However, [mikeselectricstuff] has happened to lay his hands on both the BMW and aftermarket parts,\n",
      "tearing them all down in his workshop to see what makes them tick.\n",
      "The differences are multitude when laid bare on the bench. The AliExpress part is relatively simple, wired up no differently from a regular headlight. Interestingly, however, the laser high-beam circuit runs all the time in these parts. To prevent blinding other road users, a shutter is kept in place to block the light, which is moved out of the way with a solenoid when the driver turns on the high beam switch.\n",
      "Where the aftermarket part is a little out of left field, the BMW design is another thing entirely. The cutting-edge headlights are hooked up with multiple connectors and over 30 conductors, with much of the driver electronics living in an external controller. Much of this is to drive the various LEDs and stepper motors for slewing the headlights when steering. However, the laser assembly brings its own complexities. Twin light sensors are built inside to monitor the laser beam, and a special metal blocking arm sits directly in front of the diode, presumably to stop the laser light leaving the headlight in the event the phosphor coating burns through. It’s truly wild to get a look inside a modern luxury car’s headlight and see just how far we’ve come from the old days of simple sealed beams.\n",
      "Cost Versus Performance\n",
      "Despite the efficiency gains available, the technology remains expensive. Powerful laser diodes don’t come cheap, after all. However, as the technology trickles down to lower-end models, it’s likely that we could see economies of scale change that for the better. Indeed, if national authorities begin to demand higher performance headlights as standard, we could see laser headlights become the norm, rather than an expensive luxury. The technology could naturally be applied to home and commercial lighting, too — though we suspect the potential gains are limited enough that LED lighting will remain the norm for some time to come.\n",
      "The high light output of laser headlights in a compact package allows engineers greater freedom when designing the front-end of a car.\n",
      "As it currently stands, much of the appeal of the new technology is about the packaging benefits, which allow automotive designers greater freedom around the headlight area. Such concerns are less of a factor when it comes to light fittings in the home or office, or indeed, on lower-end automobiles. Regardless, it’s an exciting new application for lasers and one we’ll be sure to see more of in the future.\n"
     ]
    }
   ],
   "source": [
    "import pickle\n",
    "from bs4 import BeautifulSoup\n",
    "\n",
    "# Step 1: Load the HTML string from the .pkl file\n",
    "with open('laser_headlights_article.pkl', 'rb') as f:\n",
    "    article_html = pickle.load(f)\n",
    "\n",
    "# Step 2: Parse the HTML with BeautifulSoup\n",
    "soup = BeautifulSoup(article_html, 'html.parser')\n",
    "\n",
    "# Step 3: Extract and print plain text\n",
    "text = soup.get_text(separator='\\n', strip=True)\n",
    "print(text)\n"
   ]
  },
  {
   "cell_type": "markdown",
   "metadata": {},
   "source": [
    "## Question 3"
   ]
  },
  {
   "cell_type": "markdown",
   "metadata": {},
   "source": [
    "3. Load the article text into a trained `spaCy` pipeline, and determine the 5 most frequent tokens (converted to lower case).  Print the common tokens with an appropriate label.  Additionally, print the tokens their frequencies (with appropriate labels). Make sure to remove things we don't care about (punctuation, stopwords, whitespace)."
   ]
  },
  {
   "cell_type": "code",
   "execution_count": 6,
   "metadata": {},
   "outputs": [
    {
     "name": "stdout",
     "output_type": "stream",
     "text": [
      "Top 5 most frequent tokens (lowercase, cleaned):\n",
      "  Token: 'laser' — Frequency: 30\n",
      "  Token: 'headlights' — Frequency: 17\n",
      "  Token: 'technology' — Frequency: 10\n",
      "  Token: 'headlight' — Frequency: 10\n",
      "  Token: 'led' — Frequency: 10\n",
      "\n",
      "All token frequencies (sample):\n",
      "  Token: 'think' — Frequency: 1\n",
      "  Token: 'onward' — Frequency: 1\n",
      "  Token: 'march' — Frequency: 1\n",
      "  Token: 'automotive' — Frequency: 6\n",
      "  Token: 'technology' — Frequency: 10\n",
      "  Token: 'headlights' — Frequency: 17\n",
      "  Token: 'usually' — Frequency: 1\n",
      "  Token: 'thing' — Frequency: 2\n",
      "  Token: 'come' — Frequency: 5\n",
      "  Token: 'mind' — Frequency: 3\n"
     ]
    }
   ],
   "source": [
    "import pickle\n",
    "from collections import Counter\n",
    "import spacy\n",
    "\n",
    "# Load spaCy English model\n",
    "nlp = spacy.load(\"en_core_web_sm\")\n",
    "\n",
    "# Load the article HTML from .pkl\n",
    "with open('laser_headlights_article.pkl', 'rb') as f:\n",
    "    article_html = pickle.load(f)\n",
    "\n",
    "# Parse HTML to text\n",
    "from bs4 import BeautifulSoup\n",
    "soup = BeautifulSoup(article_html, 'html.parser')\n",
    "text = soup.get_text(separator=' ', strip=True)\n",
    "\n",
    "# Process text with spaCy\n",
    "doc = nlp(text)\n",
    "\n",
    "# Filter tokens: no stopwords, no punctuation, no whitespace\n",
    "tokens = [\n",
    "    token.text.lower()\n",
    "    for token in doc\n",
    "    if not (token.is_stop or token.is_punct or token.is_space)\n",
    "]\n",
    "\n",
    "# Count token frequencies\n",
    "freqs = Counter(tokens)\n",
    "\n",
    "# Get 5 most common tokens\n",
    "most_common = freqs.most_common(5)\n",
    "\n",
    "# Print results\n",
    "print(\"Top 5 most frequent tokens (lowercase, cleaned):\")\n",
    "for token, count in most_common:\n",
    "    print(f\"  Token: '{token}' — Frequency: {count}\")\n",
    "\n",
    "print(\"\\nAll token frequencies (sample):\")\n",
    "for token, count in list(freqs.items())[:10]:  # printing sample first 10 tokens\n",
    "    print(f\"  Token: '{token}' — Frequency: {count}\")\n"
   ]
  },
  {
   "cell_type": "markdown",
   "metadata": {},
   "source": [
    "## Question 4"
   ]
  },
  {
   "cell_type": "markdown",
   "metadata": {},
   "source": [
    "4. Load the article text into a trained `spaCy` pipeline, and determine the 5 most frequent lemmas (converted to lower case).  Print the common lemmas with an appropriate label.  Additionally, print the lemmas with their frequencies (with appropriate labels). Make sure to remove things we don't care about (punctuation, stopwords, whitespace)."
   ]
  },
  {
   "cell_type": "code",
   "execution_count": 8,
   "metadata": {},
   "outputs": [
    {
     "name": "stdout",
     "output_type": "stream",
     "text": [
      "Top 5 most frequent lemmas (lowercase, cleaned):\n",
      "  Lemma: 'laser' — Frequency: 35\n",
      "  Lemma: 'headlight' — Frequency: 26\n",
      "  Lemma: 'beam' — Frequency: 12\n",
      "  Lemma: 'technology' — Frequency: 10\n",
      "  Lemma: 'led' — Frequency: 10\n",
      "\n",
      "Sample of lemma frequencies:\n",
      "  Lemma: 'think' — Frequency: 1\n",
      "  Lemma: 'onward' — Frequency: 1\n",
      "  Lemma: 'march' — Frequency: 1\n",
      "  Lemma: 'automotive' — Frequency: 6\n",
      "  Lemma: 'technology' — Frequency: 10\n",
      "  Lemma: 'headlight' — Frequency: 26\n",
      "  Lemma: 'usually' — Frequency: 1\n",
      "  Lemma: 'thing' — Frequency: 3\n",
      "  Lemma: 'come' — Frequency: 7\n",
      "  Lemma: 'mind' — Frequency: 3\n"
     ]
    }
   ],
   "source": [
    "import pickle\n",
    "from collections import Counter\n",
    "import spacy\n",
    "from bs4 import BeautifulSoup\n",
    "\n",
    "# Load spaCy English model\n",
    "nlp = spacy.load(\"en_core_web_sm\")\n",
    "\n",
    "# Load the article HTML from .pkl\n",
    "with open('laser_headlights_article.pkl', 'rb') as f:\n",
    "    article_html = pickle.load(f)\n",
    "\n",
    "# Parse HTML to extract plain text\n",
    "soup = BeautifulSoup(article_html, 'html.parser')\n",
    "text = soup.get_text(separator=' ', strip=True)\n",
    "\n",
    "# Process text with spaCy pipeline\n",
    "doc = nlp(text)\n",
    "\n",
    "# Extract lemmas, filter out stopwords, punctuation, whitespace\n",
    "lemmas = [\n",
    "    token.lemma_.lower()\n",
    "    for token in doc\n",
    "    if not (token.is_stop or token.is_punct or token.is_space)\n",
    "]\n",
    "\n",
    "# Count lemma frequencies\n",
    "lemma_freq = Counter(lemmas)\n",
    "\n",
    "# Get top 5 most common lemmas\n",
    "top_5 = lemma_freq.most_common(5)\n",
    "\n",
    "# Print results\n",
    "print(\"Top 5 most frequent lemmas (lowercase, cleaned):\")\n",
    "for lemma, freq in top_5:\n",
    "    print(f\"  Lemma: '{lemma}' — Frequency: {freq}\")\n",
    "\n",
    "print(\"\\nSample of lemma frequencies:\")\n",
    "for lemma, freq in list(lemma_freq.items())[:10]:\n",
    "    print(f\"  Lemma: '{lemma}' — Frequency: {freq}\")\n"
   ]
  },
  {
   "cell_type": "markdown",
   "metadata": {},
   "source": [
    "## Question 5"
   ]
  },
  {
   "cell_type": "markdown",
   "metadata": {},
   "source": [
    "5. Define the following methods:\n",
    "    * `score_sentence_by_token(sentence, interesting_token)` that takes a sentence and a list of interesting token and returns the number of times that any of the interesting words appear in the sentence divided by the number of words in the sentence\n",
    "    * `score_sentence_by_lemma(sentence, interesting_lemmas)` that takes a sentence and a list of interesting lemmas and returns the number of times that any of the interesting lemmas appear in the sentence divided by the number of words in the sentence\n",
    "    \n",
    "You may find some of the code from the in class notes useful; feel free to use methods (rewrite them in this cell as well).  Test them by showing the score of the first sentence in your article using the frequent tokens and frequent lemmas identified in question 3."
   ]
  },
  {
   "cell_type": "code",
   "execution_count": 9,
   "metadata": {},
   "outputs": [
    {
     "name": "stdout",
     "output_type": "stream",
     "text": [
      "First sentence:\n",
      "When we think about the onward march of automotive technology, headlights aren’t usually the first thing that come to mind.\n",
      "\n",
      "Score by tokens (interesting tokens = top 5): 0.095\n",
      "Score by lemmas (interesting lemmas = top 5): 0.095\n"
     ]
    }
   ],
   "source": [
    "import pickle\n",
    "from collections import Counter\n",
    "import spacy\n",
    "from bs4 import BeautifulSoup\n",
    "\n",
    "# Load spaCy English model\n",
    "nlp = spacy.load(\"en_core_web_sm\")\n",
    "\n",
    "# Load the article HTML from .pkl\n",
    "with open('laser_headlights_article.pkl', 'rb') as f:\n",
    "    article_html = pickle.load(f)\n",
    "\n",
    "# Extract plain text from HTML\n",
    "soup = BeautifulSoup(article_html, 'html.parser')\n",
    "text = soup.get_text(separator=' ', strip=True)\n",
    "\n",
    "# Process full text with spaCy\n",
    "doc = nlp(text)\n",
    "\n",
    "# -- Question 3 part: frequent tokens\n",
    "tokens = [\n",
    "    token.text.lower()\n",
    "    for token in doc\n",
    "    if not (token.is_stop or token.is_punct or token.is_space)\n",
    "]\n",
    "token_freqs = Counter(tokens)\n",
    "frequent_tokens = [token for token, freq in token_freqs.most_common(5)]\n",
    "\n",
    "# -- Question 4 part: frequent lemmas\n",
    "lemmas = [\n",
    "    token.lemma_.lower()\n",
    "    for token in doc\n",
    "    if not (token.is_stop or token.is_punct or token.is_space)\n",
    "]\n",
    "lemma_freqs = Counter(lemmas)\n",
    "frequent_lemmas = [lemma for lemma, freq in lemma_freqs.most_common(5)]\n",
    "\n",
    "# Define scoring functions\n",
    "\n",
    "def score_sentence_by_token(sentence, interesting_tokens):\n",
    "    \"\"\"Return the count of interesting tokens in sentence / number of words.\"\"\"\n",
    "    # Filter sentence tokens to exclude punctuation and spaces\n",
    "    tokens = [token.text.lower() for token in sentence if not (token.is_punct or token.is_space)]\n",
    "    if not tokens:\n",
    "        return 0.0\n",
    "    count = sum(token in interesting_tokens for token in tokens)\n",
    "    return count / len(tokens)\n",
    "\n",
    "def score_sentence_by_lemma(sentence, interesting_lemmas):\n",
    "    \"\"\"Return the count of interesting lemmas in sentence / number of words.\"\"\"\n",
    "    lemmas = [token.lemma_.lower() for token in sentence if not (token.is_punct or token.is_space)]\n",
    "    if not lemmas:\n",
    "        return 0.0\n",
    "    count = sum(lemma in interesting_lemmas for lemma in lemmas)\n",
    "    return count / len(lemmas)\n",
    "\n",
    "# Test with the first sentence of the article\n",
    "first_sentence = list(doc.sents)[0]\n",
    "\n",
    "print(\"First sentence:\")\n",
    "print(first_sentence.text)\n",
    "\n",
    "token_score = score_sentence_by_token(first_sentence, frequent_tokens)\n",
    "lemma_score = score_sentence_by_lemma(first_sentence, frequent_lemmas)\n",
    "\n",
    "print(f\"\\nScore by tokens (interesting tokens = top 5): {token_score:.3f}\")\n",
    "print(f\"Score by lemmas (interesting lemmas = top 5): {lemma_score:.3f}\")\n"
   ]
  },
  {
   "cell_type": "markdown",
   "metadata": {},
   "source": [
    "## Question 6"
   ]
  },
  {
   "cell_type": "markdown",
   "metadata": {},
   "source": [
    "6. Make a list containing the scores (using tokens) of every sentence in the article, and plot a histogram with appropriate titles and axis labels of the scores. From your histogram, what seems to be the most common range of scores (put the answer in a comment after your code)?"
   ]
  },
  {
   "cell_type": "code",
   "execution_count": 12,
   "metadata": {},
   "outputs": [
    {
     "data": {
      "image/png": "[encoded data removed]",
      "text/plain": [
       "<Figure size 800x500 with 1 Axes>"
      ]
     },
     "metadata": {},
     "output_type": "display_data"
    }
   ],
   "source": [
    "import pickle\n",
    "from collections import Counter\n",
    "import spacy\n",
    "from bs4 import BeautifulSoup\n",
    "import matplotlib.pyplot as plt\n",
    "\n",
    "# Load spaCy English model\n",
    "nlp = spacy.load(\"en_core_web_sm\")\n",
    "\n",
    "# Load the article HTML from .pkl\n",
    "with open('laser_headlights_article.pkl', 'rb') as f:\n",
    "    article_html = pickle.load(f)\n",
    "\n",
    "# Extract plain text from HTML\n",
    "soup = BeautifulSoup(article_html, 'html.parser')\n",
    "text = soup.get_text(separator=' ', strip=True)\n",
    "\n",
    "# Process full text with spaCy\n",
    "doc = nlp(text)\n",
    "\n",
    "# -- Reuse frequent tokens from Q3\n",
    "tokens = [\n",
    "    token.text.lower()\n",
    "    for token in doc\n",
    "    if not (token.is_stop or token.is_punct or token.is_space)\n",
    "]\n",
    "token_freqs = Counter(tokens)\n",
    "frequent_tokens = [token for token, freq in token_freqs.most_common(5)]\n",
    "\n",
    "# Reuse scoring function from Q5\n",
    "def score_sentence_by_token(sentence, interesting_tokens):\n",
    "    tokens = [token.text.lower() for token in sentence if not (token.is_punct or token.is_space)]\n",
    "    if not tokens:\n",
    "        return 0.0\n",
    "    count = sum(token in interesting_tokens for token in tokens)\n",
    "    return count / len(tokens)\n",
    "\n",
    "# Score all sentences\n",
    "scores = [score_sentence_by_token(sent, frequent_tokens) for sent in doc.sents]\n",
    "\n",
    "# Plot histogram\n",
    "plt.figure(figsize=(8,5))\n",
    "plt.hist(scores, bins=20, color='blue', edgecolor='black')\n",
    "plt.title('Histogram of Sentence Scores by Frequent Tokens')\n",
    "plt.xlabel('Score (Fraction of Interesting Tokens)')\n",
    "plt.ylabel('Number of Sentences')\n",
    "plt.grid(axis='y', alpha=0.75)\n",
    "plt.show()\n"
   ]
  },
  {
   "cell_type": "markdown",
   "metadata": {},
   "source": [
    "## Question 7"
   ]
  },
  {
   "cell_type": "markdown",
   "metadata": {},
   "source": [
    "7. Make a list containing the scores (using lemmas) of every sentence in the article, and plot a histogram with appropriate titles and axis labels of the scores.  From your histogram, what seems to be the most common range of scores (put the answer in a comment after your code)?"
   ]
  },
  {
   "cell_type": "code",
   "execution_count": 15,
   "metadata": {},
   "outputs": [
    {
     "data": {
      "image/png": "[encoded data removed]",
      "text/plain": [
       "<Figure size 800x500 with 1 Axes>"
      ]
     },
     "metadata": {},
     "output_type": "display_data"
    }
   ],
   "source": [
    "import pickle\n",
    "from collections import Counter\n",
    "import spacy\n",
    "from bs4 import BeautifulSoup\n",
    "import matplotlib.pyplot as plt\n",
    "\n",
    "# Load spaCy English model\n",
    "nlp = spacy.load(\"en_core_web_sm\")\n",
    "\n",
    "# Load the article HTML from .pkl\n",
    "with open('laser_headlights_article.pkl', 'rb') as f:\n",
    "    article_html = pickle.load(f)\n",
    "\n",
    "# Extract plain text from HTML\n",
    "soup = BeautifulSoup(article_html, 'html.parser')\n",
    "text = soup.get_text(separator=' ', strip=True)\n",
    "\n",
    "# Process full text with spaCy\n",
    "doc = nlp(text)\n",
    "\n",
    "# -- Reuse frequent lemmas from Q4\n",
    "lemmas = [\n",
    "    token.lemma_.lower()\n",
    "    for token in doc\n",
    "    if not (token.is_stop or token.is_punct or token.is_space)\n",
    "]\n",
    "lemma_freqs = Counter(lemmas)\n",
    "frequent_lemmas = [lemma for lemma, freq in lemma_freqs.most_common(5)]\n",
    "\n",
    "# Scoring function by lemma (from Q5)\n",
    "def score_sentence_by_lemma(sentence, interesting_lemmas):\n",
    "    lemmas = [token.lemma_.lower() for token in sentence if not (token.is_punct or token.is_space)]\n",
    "    if not lemmas:\n",
    "        return 0.0\n",
    "    count = sum(lemma in interesting_lemmas for lemma in lemmas)\n",
    "    return count / len(lemmas)\n",
    "\n",
    "# Score all sentences by lemmas\n",
    "scores = [score_sentence_by_lemma(sent, frequent_lemmas) for sent in doc.sents]\n",
    "\n",
    "# Plot histogram\n",
    "plt.figure(figsize=(8,5))\n",
    "plt.hist(scores, bins=20, color='green', edgecolor='black')\n",
    "plt.title('Histogram of Sentence Scores by Frequent Lemmas')\n",
    "plt.xlabel('Score (Fraction of Interesting Lemmas)')\n",
    "plt.ylabel('Number of Sentences')\n",
    "plt.grid(axis='y', alpha=0.75)\n",
    "plt.show()\n"
   ]
  },
  {
   "cell_type": "markdown",
   "metadata": {},
   "source": [
    "## Question 8"
   ]
  },
  {
   "cell_type": "markdown",
   "metadata": {},
   "source": [
    "8. Which tokens and lexems would be ommitted from the lists generated in questions 3 and 4 if we only wanted to consider nouns as interesting words?  How might we change the code to only consider nouns? Put your answer in this Markdown cell (you can edit it by double clicking it)."
   ]
  },
  {
   "cell_type": "markdown",
   "metadata": {},
   "source": [
    "After reviewing the tokens and lemmas from questions 3 and 4, none of the top 5 most common tokens and lemmas would be omitted if we restricted the list to nouns, as they all appear to be nouns or proper nouns.\n",
    "\n",
    "To ensure that only nouns are considered, we would modify our code to check each token’s part-of-speech tag using token.pos_. The token.pos_ attribute tells us the grammatical category of the token, such as noun (NOUN), proper noun (PROPN), verb (VERB), adjective (ADJ), etc."
   ]
  },
  {
   "cell_type": "code",
   "execution_count": 17,
   "metadata": {},
   "outputs": [],
   "source": [
    "# For tokens (Q3)\n",
    "tokens = [\n",
    "    token.text.lower()\n",
    "    for token in doc\n",
    "    if not (token.is_stop or token.is_punct or token.is_space)\n",
    "    and token.pos_ in (\"NOUN\", \"PROPN\")  # Only nouns and proper nouns\n",
    "]\n",
    "\n",
    "# For lemmas (Q4)\n",
    "lemmas = [\n",
    "    token.lemma_.lower()\n",
    "    for token in doc\n",
    "    if not (token.is_stop or token.is_punct or token.is_space)\n",
    "    and token.pos_ in (\"NOUN\", \"PROPN\")\n",
    "]\n"
   ]
  },
  {
   "cell_type": "code",
   "execution_count": 20,
   "metadata": {},
   "outputs": [
    {
     "name": "stderr",
     "output_type": "stream",
     "text": [
      "[NbConvertApp] Converting notebook web-scraping.ipynb to html\n",
      "[NbConvertApp] WARNING | Alternative text is missing on 2 image(s).\n",
      "[NbConvertApp] Writing 393067 bytes to web-scraping.html\n"
     ]
    }
   ],
   "source": [
    "!jupyter nbconvert --to html web-scraping.ipynb"
   ]
  },
  {
   "cell_type": "code",
   "execution_count": null,
   "metadata": {},
   "outputs": [],
   "source": []
  }
 ],
 "metadata": {
  "kernelspec": {
   "display_name": ".venv",
   "language": "python",
   "name": "python3"
  },
  "language_info": {
   "codemirror_mode": {
    "name": "ipython",
    "version": 3
   },
   "file_extension": ".py",
   "mimetype": "text/x-python",
   "name": "python",
   "nbconvert_exporter": "python",
   "pygments_lexer": "ipython3",
   "version": "3.11.9"
  }
 },
 "nbformat": 4,
 "nbformat_minor": 4
}
